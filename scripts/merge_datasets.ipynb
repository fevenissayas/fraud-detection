{
 "cells": [
  {
   "cell_type": "markdown",
   "id": "9e1a4450",
   "metadata": {},
   "source": [
    "## Import Dependencies"
   ]
  },
  {
   "cell_type": "code",
   "execution_count": 1,
   "id": "6ab4e989",
   "metadata": {},
   "outputs": [],
   "source": [
    "import pandas as pd\n",
    "import numpy as np"
   ]
  },
  {
   "cell_type": "markdown",
   "id": "64b36596",
   "metadata": {},
   "source": [
    "## Load Datasets"
   ]
  },
  {
   "cell_type": "code",
   "execution_count": 2,
   "id": "8f021ec2",
   "metadata": {},
   "outputs": [
    {
     "name": "stdout",
     "output_type": "stream",
     "text": [
      "Datasets loaded for EDA.\n"
     ]
    }
   ],
   "source": [
    "\n",
    "try:\n",
    "    fraud_data = pd.read_csv('../data/Fraud_Data_cleaned.csv')\n",
    "    ip_to_country = pd.read_csv('../data/IpAddress_to_Country_cleaned.csv')\n",
    "    creditcard_data = pd.read_csv('../data/creditcard_cleaned.csv')\n",
    "\n",
    "    # Re-apply the necessary preprocessing steps to ensure consistency for EDA\n",
    "    fraud_data['signup_time'] = pd.to_datetime(fraud_data['signup_time'])\n",
    "    fraud_data['purchase_time'] = pd.to_datetime(fraud_data['purchase_time'])\n",
    "    \n",
    "    # Convert ip_address to integer as per previous successful step\n",
    "    fraud_data['ip_address_int'] = fraud_data['ip_address'].round().astype(int)\n",
    "\n",
    "    ip_to_country['lower_bound_ip_address'] = ip_to_country['lower_bound_ip_address'].astype(int)\n",
    "    ip_to_country['upper_bound_ip_address'] = ip_to_country['upper_bound_ip_address'].astype(int)\n",
    "\n",
    "    creditcard_data.drop_duplicates(inplace=True)\n",
    "    \n",
    "    print(\"Datasets loaded for EDA.\")\n",
    "except FileNotFoundError as e:\n",
    "    print(f\"Error loading file for EDA: {e}. Please ensure the CSV files are in the data directory.\")\n",
    "    exit()"
   ]
  },
  {
   "cell_type": "markdown",
   "id": "031240b4",
   "metadata": {},
   "source": [
    "## Merge the Datasets"
   ]
  },
  {
   "cell_type": "code",
   "execution_count": null,
   "id": "33ab82b5",
   "metadata": {},
   "outputs": [
    {
     "name": "stdout",
     "output_type": "stream",
     "text": [
      "\n",
      "--- Starting Merging Datasets for Geolocation Analysis ---\n",
      "Mapping IP addresses to countries. This may take a moment...\n",
      "IP address to country mapping complete.\n",
      "\n",
      "Warning: 21966 IP addresses could not be mapped to a country.\n",
      "\n",
      "--- Merged Fraud Data Info ---\n",
      "<class 'pandas.core.frame.DataFrame'>\n",
      "RangeIndex: 151112 entries, 0 to 151111\n",
      "Data columns (total 13 columns):\n",
      " #   Column          Non-Null Count   Dtype         \n",
      "---  ------          --------------   -----         \n",
      " 0   user_id         151112 non-null  int64         \n",
      " 1   signup_time     151112 non-null  datetime64[ns]\n",
      " 2   purchase_time   151112 non-null  datetime64[ns]\n",
      " 3   purchase_value  151112 non-null  int64         \n",
      " 4   device_id       151112 non-null  object        \n",
      " 5   source          151112 non-null  object        \n",
      " 6   browser         151112 non-null  object        \n",
      " 7   sex             151112 non-null  object        \n",
      " 8   age             151112 non-null  int64         \n",
      " 9   ip_address      151112 non-null  float64       \n",
      " 10  class           151112 non-null  int64         \n",
      " 11  ip_address_int  151112 non-null  int64         \n",
      " 12  country         151112 non-null  object        \n",
      "dtypes: datetime64[ns](2), float64(1), int64(5), object(5)\n",
      "memory usage: 15.0+ MB\n",
      "\n",
      "First 5 rows of Fraud_Data.csv with new 'country' column:\n",
      "   user_id         signup_time       purchase_time  purchase_value  \\\n",
      "0    22058 2015-02-24 22:55:49 2015-04-18 02:47:11              34   \n",
      "1   333320 2015-06-07 20:39:50 2015-06-08 01:38:54              16   \n",
      "2     1359 2015-01-01 18:52:44 2015-01-01 18:52:45              15   \n",
      "3   150084 2015-04-28 21:13:25 2015-05-04 13:54:50              44   \n",
      "4   221365 2015-07-21 07:09:52 2015-09-09 18:40:53              39   \n",
      "\n",
      "       device_id source browser sex  age    ip_address  class  ip_address_int  \\\n",
      "0  QVPSPJUOCKZAR    SEO  Chrome   M   39  7.327584e+08      0       732758369   \n",
      "1  EOGFQPIZPYXFZ    Ads  Chrome   F   53  3.503114e+08      0       350311388   \n",
      "2  YSSKYOSJHPPLJ    SEO   Opera   M   53  2.621474e+09      1      2621473820   \n",
      "3  ATGTXKYKUDUQN    SEO  Safari   M   41  3.840542e+09      0      3840542444   \n",
      "4  NAUITBZFJKHWW    Ads  Safari   M   45  4.155831e+08      0       415583117   \n",
      "\n",
      "         country  \n",
      "0          Japan  \n",
      "1  United States  \n",
      "2  United States  \n",
      "3        Unknown  \n",
      "4  United States  \n"
     ]
    },
    {
     "name": "stderr",
     "output_type": "stream",
     "text": [
      "/tmp/ipykernel_334497/42282624.py:27: FutureWarning: A value is trying to be set on a copy of a DataFrame or Series through chained assignment using an inplace method.\n",
      "The behavior will change in pandas 3.0. This inplace method will never work because the intermediate object on which we are setting values always behaves as a copy.\n",
      "\n",
      "For example, when doing 'df[col].method(value, inplace=True)', try using 'df.method({col: value}, inplace=True)' or df[col] = df[col].method(value) instead, to perform the operation inplace on the original object.\n",
      "\n",
      "\n",
      "  fraud_data['country'].fillna('Unknown', inplace=True)\n"
     ]
    }
   ],
   "source": [
    "\n",
    "print(\"\\n--- Starting Merging Datasets for Geolocation Analysis ---\")\n",
    "\n",
    "# Sort ip_to_country by lower_bound_ip_address for efficient searching\n",
    "ip_to_country_sorted = ip_to_country.sort_values(by='lower_bound_ip_address').reset_index(drop=True)\n",
    "\n",
    "\n",
    "def get_country(ip_int, ip_ranges_df):\n",
    "\n",
    "    idx = ip_ranges_df['lower_bound_ip_address'].searchsorted(ip_int, side='right') - 1\n",
    "\n",
    "    if idx >= 0 and ip_int <= ip_ranges_df.loc[idx, 'upper_bound_ip_address']:\n",
    "        return ip_ranges_df.loc[idx, 'country']\n",
    "    else:\n",
    "        return np.nan\n",
    "\n",
    "print(\"Mapping IP addresses to countries. This may take a moment...\")\n",
    "fraud_data['country'] = fraud_data['ip_address_int'].apply(lambda x: get_country(x, ip_to_country_sorted))\n",
    "print(\"IP address to country mapping complete.\")\n",
    "\n",
    "unmapped_ips_count = fraud_data['country'].isnull().sum()\n",
    "if unmapped_ips_count > 0:\n",
    "    print(f\"\\nWarning: {unmapped_ips_count} IP addresses could not be mapped to a country.\")\n",
    "else:\n",
    "    print(\"\\nAll IP addresses successfully mapped to a country.\")\n",
    "\n",
    "# Lable the unmapped countries Unknown\n",
    "fraud_data['country'].fillna('Unknown', inplace=True)\n",
    "print(\"\\n--- Merged Fraud Data Info ---\")\n",
    "fraud_data.info()\n",
    "\n",
    "print(\"\\nFirst 5 rows of Fraud_Data.csv with new 'country' column:\")\n",
    "print(fraud_data.head())\n",
    "\n"
   ]
  },
  {
   "cell_type": "markdown",
   "id": "2a09c310",
   "metadata": {},
   "source": [
    "## Save the merged dataset"
   ]
  },
  {
   "cell_type": "code",
   "execution_count": 5,
   "id": "4cb5eb47",
   "metadata": {},
   "outputs": [
    {
     "name": "stdout",
     "output_type": "stream",
     "text": [
      "Merged fraud_data saved to '../data/Fraud_Data_merged.csv'.\n"
     ]
    }
   ],
   "source": [
    "fraud_data.to_csv('../data/Fraud_Data_merged.csv', index=False)\n",
    "print(\"Merged fraud_data saved to '../data/Fraud_Data_merged.csv'.\")"
   ]
  },
  {
   "cell_type": "markdown",
   "id": "146cee3b",
   "metadata": {},
   "source": []
  }
 ],
 "metadata": {
  "kernelspec": {
   "display_name": ".venv",
   "language": "python",
   "name": "python3"
  },
  "language_info": {
   "codemirror_mode": {
    "name": "ipython",
    "version": 3
   },
   "file_extension": ".py",
   "mimetype": "text/x-python",
   "name": "python",
   "nbconvert_exporter": "python",
   "pygments_lexer": "ipython3",
   "version": "3.12.3"
  }
 },
 "nbformat": 4,
 "nbformat_minor": 5
}
