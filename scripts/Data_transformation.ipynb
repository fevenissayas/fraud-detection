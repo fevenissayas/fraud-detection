{
 "cells": [
  {
   "cell_type": "markdown",
   "id": "e198ed76",
   "metadata": {},
   "source": [
    "## Import Dependencies"
   ]
  },
  {
   "cell_type": "code",
   "execution_count": 3,
   "id": "fc81fe7b",
   "metadata": {},
   "outputs": [],
   "source": [
    "import pandas as pd\n",
    "import numpy as np\n",
    "from sklearn.model_selection import train_test_split\n",
    "from sklearn.preprocessing import StandardScaler, MinMaxScaler, OneHotEncoder\n",
    "from imblearn.over_sampling import SMOTE\n",
    "from imblearn.under_sampling import RandomUnderSampler\n",
    "from collections import Counter\n",
    "import warnings\n"
   ]
  },
  {
   "cell_type": "markdown",
   "id": "c27a9673",
   "metadata": {},
   "source": [
    "## Load Datasets"
   ]
  },
  {
   "cell_type": "code",
   "execution_count": 4,
   "id": "133d8f82",
   "metadata": {},
   "outputs": [
    {
     "name": "stdout",
     "output_type": "stream",
     "text": [
      "Loading pre-processed datasets for Data Transformation...\n",
      "Datasets loaded successfully.\n"
     ]
    }
   ],
   "source": [
    "print(\"Loading pre-processed datasets for Data Transformation...\")\n",
    "try:\n",
    "    fraud_data = pd.read_csv('../data/Fraud_Data_merged.csv')\n",
    "    creditcard_data = pd.read_csv('../data/creditcard_cleaned.csv')\n",
    "\n",
    "    if 'signup_time' in fraud_data.columns and not pd.api.types.is_datetime64_any_dtype(fraud_data['signup_time']):\n",
    "        fraud_data['signup_time'] = pd.to_datetime(fraud_data['signup_time'], errors='coerce')\n",
    "    if 'purchase_time' in fraud_data.columns and not pd.api.types.is_datetime64_any_dtype(fraud_data['purchase_time']):\n",
    "        fraud_data['purchase_time'] = pd.to_datetime(fraud_data['purchase_time'], errors='coerce')\n",
    "\n",
    "    initial_rows_fraud = fraud_data.shape[0]\n",
    "    fraud_data.dropna(subset=['signup_time', 'purchase_time'], inplace=True)\n",
    "    if fraud_data.shape[0] < initial_rows_fraud:\n",
    "        print(f\"Dropped {initial_rows_fraud - fraud_data.shape[0]} rows from Fraud_Data due to invalid signup_time or purchase_time after loading merged CSV.\")\n",
    "    \n",
    "    print(\"Datasets loaded successfully.\")\n",
    "except FileNotFoundError as e:\n",
    "    print(f\"Error loading file: {e}. Please ensure the specified CSV files are in the Data directory.\")\n",
    "    exit()"
   ]
  },
  {
   "cell_type": "markdown",
   "id": "04e5a443",
   "metadata": {},
   "source": [
    "## Data Transformation"
   ]
  },
  {
   "cell_type": "markdown",
   "id": "18876279",
   "metadata": {},
   "source": [
    "### Handle Class Imbalance"
   ]
  },
  {
   "cell_type": "code",
   "execution_count": 7,
   "id": "43e46301",
   "metadata": {},
   "outputs": [
    {
     "name": "stdout",
     "output_type": "stream",
     "text": [
      "\n",
      "Performing Train-Test Split...\n",
      "Fraud_Data train shape: (105778, 7), test shape: (45334, 7)\n",
      "Creditcard_Data train shape: (198608, 29), test shape: (85118, 29)\n",
      "\n",
      "Handling Class Imbalance...\n",
      "Original Fraud_Data training set shape: Counter({0: 95872, 1: 9906})\n",
      "Resampled Fraud_Data training set shape (SMOTE): Counter({0: 95872, 1: 95872})\n",
      "Original Creditcard_Data training set shape: Counter({0: 198277, 1: 331})\n",
      "Resampled Creditcard_Data training set shape (RandomUnderSampler): Counter({0: 331, 1: 331})\n"
     ]
    }
   ],
   "source": [
    "X_fraud = fraud_data.drop(columns=[\n",
    "    'user_id', 'signup_time', 'purchase_time', 'device_id', 'ip_address', 'class'\n",
    "])\n",
    "y_fraud = fraud_data['class']\n",
    "\n",
    "X_creditcard = creditcard_data.drop(columns=['Time', 'Class'])\n",
    "y_creditcard = creditcard_data['Class']\n",
    "\n",
    "print(\"\\nPerforming Train-Test Split...\")\n",
    "X_fraud_train, X_fraud_test, y_fraud_train, y_fraud_test = train_test_split(\n",
    "    X_fraud, y_fraud, test_size=0.3, random_state=42, stratify=y_fraud\n",
    ")\n",
    "print(f\"Fraud_Data train shape: {X_fraud_train.shape}, test shape: {X_fraud_test.shape}\")\n",
    "\n",
    "X_creditcard_train, X_creditcard_test, y_creditcard_train, y_creditcard_test = train_test_split(\n",
    "    X_creditcard, y_creditcard, test_size=0.3, random_state=42, stratify=y_creditcard\n",
    ")\n",
    "print(f\"Creditcard_Data train shape: {X_creditcard_train.shape}, test shape: {X_creditcard_test.shape}\")\n",
    "\n",
    "\n",
    "print(\"\\nHandling Class Imbalance...\")\n",
    "\n",
    "print(f\"Original Fraud_Data training set shape: {Counter(y_fraud_train)}\")\n",
    "\n",
    "numerical_cols_fraud_train = X_fraud_train.select_dtypes(include=np.number).columns\n",
    "categorical_cols_fraud_train = X_fraud_train.select_dtypes(include='object').columns\n",
    "\n",
    "encoder_fraud_smote = OneHotEncoder(handle_unknown='ignore', sparse_output=False)\n",
    "X_fraud_train_cat_encoded = encoder_fraud_smote.fit_transform(X_fraud_train[categorical_cols_fraud_train])\n",
    "X_fraud_train_cat_encoded_df = pd.DataFrame(X_fraud_train_cat_encoded, columns=encoder_fraud_smote.get_feature_names_out(categorical_cols_fraud_train), index=X_fraud_train.index)\n",
    "\n",
    "X_fraud_train_combined = pd.concat([X_fraud_train[numerical_cols_fraud_train], X_fraud_train_cat_encoded_df], axis=1)\n",
    "\n",
    "smote = SMOTE(random_state=42)\n",
    "X_fraud_train_res, y_fraud_train_res = smote.fit_resample(X_fraud_train_combined, y_fraud_train)\n",
    "print(f\"Resampled Fraud_Data training set shape (SMOTE): {Counter(y_fraud_train_res)}\")\n",
    "\n",
    "\n",
    "print(f\"Original Creditcard_Data training set shape: {Counter(y_creditcard_train)}\")\n",
    "rus = RandomUnderSampler(random_state=42)\n",
    "X_creditcard_train_res, y_creditcard_train_res = rus.fit_resample(X_creditcard_train, y_creditcard_train)\n",
    "print(f\"Resampled Creditcard_Data training set shape (RandomUnderSampler): {Counter(y_creditcard_train_res)}\")\n",
    "\n"
   ]
  },
  {
   "cell_type": "markdown",
   "id": "db3bbc2d",
   "metadata": {},
   "source": [
    "### Normalization and Scaling"
   ]
  },
  {
   "cell_type": "code",
   "execution_count": 8,
   "id": "efd15729",
   "metadata": {},
   "outputs": [
    {
     "name": "stdout",
     "output_type": "stream",
     "text": [
      "\n",
      "Performing Normalization and Scaling...\n",
      "Creditcard_Data numerical features scaled using StandardScaler.\n"
     ]
    }
   ],
   "source": [
    "\n",
    "print(\"\\nPerforming Normalization and Scaling...\")\n",
    "numerical_cols_fraud_resampled = X_fraud_train_res.columns\n",
    "scaler_fraud = StandardScaler()\n",
    "X_fraud_train_res[numerical_cols_fraud_resampled] = scaler_fraud.fit_transform(X_fraud_train_res[numerical_cols_fraud_resampled])\n",
    "\n",
    "# Transform X_fraud_test using the scaler fitted on the training data\n",
    "X_fraud_test_cat_encoded = encoder_fraud_smote.transform(X_fraud_test[categorical_cols_fraud_train])\n",
    "X_fraud_test_cat_encoded_df = pd.DataFrame(X_fraud_test_cat_encoded, columns=encoder_fraud_smote.get_feature_names_out(categorical_cols_fraud_train), index=X_fraud_test.index)\n",
    "\n",
    "# Combine numerical and encoded categorical features for X_fraud_test\n",
    "X_fraud_test_combined = pd.concat([X_fraud_test[numerical_cols_fraud_train], X_fraud_test_cat_encoded_df], axis=1)\n",
    "X_fraud_test = scaler_fraud.transform(X_fraud_test_combined)\n",
    "# Convert X_fraud_test back to DataFrame with column names after scaling\n",
    "X_fraud_test = pd.DataFrame(X_fraud_test, columns=X_fraud_train_res.columns, index=X_fraud_test_combined.index)\n",
    "\n",
    "\n",
    "# Identify numerical columns for scaling in Creditcard_Data\n",
    "numerical_cols_creditcard = X_creditcard_train_res.select_dtypes(include=np.number).columns\n",
    "scaler_creditcard = StandardScaler()\n",
    "X_creditcard_train_res[numerical_cols_creditcard] = scaler_creditcard.fit_transform(X_creditcard_train_res[numerical_cols_creditcard])\n",
    "X_creditcard_test[numerical_cols_creditcard] = scaler_creditcard.transform(X_creditcard_test[numerical_cols_creditcard])\n",
    "print(\"Creditcard_Data numerical features scaled using StandardScaler.\")"
   ]
  },
  {
   "cell_type": "markdown",
   "id": "afe4b640",
   "metadata": {},
   "source": [
    "### Encode Categorical Features"
   ]
  },
  {
   "cell_type": "code",
   "execution_count": 9,
   "id": "fc25d49b",
   "metadata": {},
   "outputs": [
    {
     "name": "stdout",
     "output_type": "stream",
     "text": [
      "\n",
      "Categorical Feature Encoding for Fraud_Data.csv was performed before SMOTE.\n",
      "Creditcard.csv has no categorical features requiring encoding.\n",
      "\n",
      "--- Data Transformation Complete ---\n",
      "\n",
      "Final shapes of transformed data:\n",
      "Fraud_Data X_train_res: (191744, 191), y_train_res: (191744,)\n",
      "Fraud_Data X_test: (45334, 191), y_test: (45334,)\n",
      "Creditcard_Data X_train_res: (662, 29), y_train_res: (662,)\n",
      "Creditcard_Data X_test: (85118, 29), y_test: (85118,)\n",
      "\n",
      "First 5 rows of transformed X_fraud_train_res (Fraud_Data):\n",
      "   purchase_value       age  ip_address_int  source_Ads  source_Direct  \\\n",
      "0        0.283339 -0.257716       -0.596492    1.287288      -0.545219   \n",
      "1        0.057481 -0.137021       -1.028707    1.287288      -0.545219   \n",
      "2       -1.410600  0.345759       -0.656143   -0.836398      -0.545219   \n",
      "3       -1.410600 -1.706056        0.329138   -0.836398      -0.545219   \n",
      "4        0.226875 -0.619801        0.598759   -0.836398      -0.545219   \n",
      "\n",
      "   source_SEO  browser_Chrome  browser_FireFox  browser_IE  browser_Opera  \\\n",
      "0   -0.831703        1.226395        -0.458994   -0.573328       -0.16093   \n",
      "1   -0.831703        1.226395        -0.458994   -0.573328       -0.16093   \n",
      "2    1.293972       -0.881005        -0.458994   -0.573328       -0.16093   \n",
      "3    1.293972       -0.881005        -0.458994    1.879962       -0.16093   \n",
      "4    1.293972        1.226395        -0.458994   -0.573328       -0.16093   \n",
      "\n",
      "   ...  country_United States  country_Unknown  country_Uruguay  \\\n",
      "0  ...              -0.800274        -0.406944        -0.021201   \n",
      "1  ...              -0.800274        -0.406944        -0.021201   \n",
      "2  ...              -0.800274        -0.406944        -0.021201   \n",
      "3  ...               1.265052        -0.406944        -0.021201   \n",
      "4  ...               1.265052        -0.406944        -0.021201   \n",
      "\n",
      "   country_Uzbekistan  country_Venezuela  country_Viet Nam  \\\n",
      "0           -0.008508          -0.043446         -0.056766   \n",
      "1           -0.008508          -0.043446         -0.056766   \n",
      "2           -0.008508          -0.043446         -0.056766   \n",
      "3           -0.008508          -0.043446         -0.056766   \n",
      "4           -0.008508          -0.043446         -0.056766   \n",
      "\n",
      "   country_Virgin Islands (U.S.)  country_Yemen  country_Zambia  \\\n",
      "0                      -0.002284      -0.002284       -0.006459   \n",
      "1                      -0.002284      -0.002284       -0.006459   \n",
      "2                      -0.002284      -0.002284       -0.006459   \n",
      "3                      -0.002284      -0.002284       -0.006459   \n",
      "4                      -0.002284      -0.002284       -0.006459   \n",
      "\n",
      "   country_Zimbabwe  \n",
      "0         -0.004567  \n",
      "1         -0.004567  \n",
      "2         -0.004567  \n",
      "3         -0.004567  \n",
      "4         -0.004567  \n",
      "\n",
      "[5 rows x 191 columns]\n",
      "\n",
      "First 5 rows of transformed X_creditcard_train_res (Creditcard_Data):\n",
      "              V1        V2        V3        V4        V5        V6        V7  \\\n",
      "203952  0.811553 -0.912336  0.379700 -1.249349  0.533295  3.039435  0.071078   \n",
      "117893  0.654416 -0.276813  0.486600 -0.329866  0.455522  0.051518  0.522407   \n",
      "237479  0.793727 -0.442546  0.308603 -0.283558  0.457379 -0.057324  0.565486   \n",
      "274912  0.665467 -1.294157  0.224392 -1.051956  0.037160  0.064370  0.479198   \n",
      "114715  0.665112 -0.520646  0.582071 -0.752089  0.232934  0.040205  0.440090   \n",
      "\n",
      "              V8        V9       V10  ...       V20       V21       V22  \\\n",
      "203952  0.174301  0.763057  0.790373  ... -0.090917  0.086706  1.155876   \n",
      "117893 -0.128257  0.358497  0.510613  ... -0.196678 -0.125813 -0.020238   \n",
      "237479 -0.155310  0.570111  0.733907  ... -0.475584 -0.066392  0.418680   \n",
      "274912 -0.194144 -0.231575  0.982662  ...  0.394797 -0.091283 -0.616955   \n",
      "114715 -0.089893  0.684843  0.640066  ... -0.345261 -0.216906 -0.789018   \n",
      "\n",
      "             V23       V24       V25       V26       V27       V28    Amount  \n",
      "203952  0.258041  1.403730 -0.567625 -0.206518 -0.050372 -0.220006 -0.358640  \n",
      "117893 -0.114707 -0.079144  1.056350 -0.737142 -0.087685 -0.033628 -0.460539  \n",
      "237479  0.057842  0.119550  0.565217 -1.117398 -0.147815 -0.305634 -0.420536  \n",
      "274912 -0.195658 -0.492544 -0.391457 -0.666091 -0.251303 -0.095231  1.977933  \n",
      "114715  0.131573  0.106430  0.153501  1.724989 -0.232282 -0.170457 -0.446790  \n",
      "\n",
      "[5 rows x 29 columns]\n"
     ]
    }
   ],
   "source": [
    "print(\"\\nCategorical Feature Encoding for Fraud_Data.csv was performed before SMOTE.\")\n",
    "print(\"Creditcard.csv has no categorical features requiring encoding.\")\n",
    "\n",
    "\n",
    "print(\"\\n--- Data Transformation Complete ---\")\n",
    "\n",
    "print(\"\\nFinal shapes of transformed data:\")\n",
    "print(f\"Fraud_Data X_train_res: {X_fraud_train_res.shape}, y_train_res: {y_fraud_train_res.shape}\")\n",
    "print(f\"Fraud_Data X_test: {X_fraud_test.shape}, y_test: {y_fraud_test.shape}\")\n",
    "print(f\"Creditcard_Data X_train_res: {X_creditcard_train_res.shape}, y_train_res: {y_creditcard_train_res.shape}\")\n",
    "print(f\"Creditcard_Data X_test: {X_creditcard_test.shape}, y_test: {y_creditcard_test.shape}\")\n",
    "\n",
    "print(\"\\nFirst 5 rows of transformed X_fraud_train_res (Fraud_Data):\")\n",
    "print(X_fraud_train_res.head())\n",
    "print(\"\\nFirst 5 rows of transformed X_creditcard_train_res (Creditcard_Data):\")\n",
    "print(X_creditcard_train_res.head())"
   ]
  }
 ],
 "metadata": {
  "kernelspec": {
   "display_name": ".venv",
   "language": "python",
   "name": "python3"
  },
  "language_info": {
   "codemirror_mode": {
    "name": "ipython",
    "version": 3
   },
   "file_extension": ".py",
   "mimetype": "text/x-python",
   "name": "python",
   "nbconvert_exporter": "python",
   "pygments_lexer": "ipython3",
   "version": "3.12.3"
  }
 },
 "nbformat": 4,
 "nbformat_minor": 5
}
