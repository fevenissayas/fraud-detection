{
 "cells": [
  {
   "cell_type": "markdown",
   "id": "49576592",
   "metadata": {},
   "source": [
    "## Import Dependencies"
   ]
  },
  {
   "cell_type": "code",
   "execution_count": 1,
   "id": "1b7adb73",
   "metadata": {},
   "outputs": [],
   "source": [
    "import pandas as pd\n",
    "import numpy as np"
   ]
  },
  {
   "cell_type": "markdown",
   "id": "7f7a18a0",
   "metadata": {},
   "source": [
    "## Load Dataset"
   ]
  },
  {
   "cell_type": "code",
   "execution_count": 3,
   "id": "5b6d5f44",
   "metadata": {},
   "outputs": [
    {
     "name": "stdout",
     "output_type": "stream",
     "text": [
      "Dataset loaded for EDA.\n"
     ]
    }
   ],
   "source": [
    "try:\n",
    "    fraud_data = pd.read_csv('../data/Fraud_Data_merged.csv')\n",
    "    print(\"Dataset loaded for EDA.\")\n",
    "except FileNotFoundError as e:\n",
    "    print(f\"Error loading file for EDA: {e}. Please ensure the CSV files are in the data directory.\")\n",
    "    exit()"
   ]
  },
  {
   "cell_type": "markdown",
   "id": "002fc631",
   "metadata": {},
   "source": [
    "## Feature Engineering"
   ]
  },
  {
   "cell_type": "code",
   "execution_count": 7,
   "id": "5b59c648",
   "metadata": {},
   "outputs": [
    {
     "name": "stdout",
     "output_type": "stream",
     "text": [
      "purchase_time and signup_time are converted to datetime objects\n"
     ]
    }
   ],
   "source": [
    "# make purchase_time and signup_time are datetime objects \n",
    "if not pd.api.types.is_datetime64_any_dtype(fraud_data['purchase_time']):\n",
    "    fraud_data['purchase_time'] = pd.to_datetime(fraud_data['purchase_time'], errors='coerce')\n",
    "    fraud_data.dropna(subset=['purchase_time'], inplace=True)\n",
    "\n",
    "if not pd.api.types.is_datetime64_any_dtype(fraud_data['signup_time']):\n",
    "    fraud_data['signup_time'] = pd.to_datetime(fraud_data['signup_time'], errors='coerce')\n",
    "    fraud_data.dropna(subset=['signup_time'], inplace=True)\n",
    "print(\"purchase_time and signup_time are converted to datetime objects\")"
   ]
  },
  {
   "cell_type": "markdown",
   "id": "56cbda97",
   "metadata": {},
   "source": [
    "## Time Based"
   ]
  },
  {
   "cell_type": "code",
   "execution_count": 8,
   "id": "0cc3e7a8",
   "metadata": {},
   "outputs": [
    {
     "name": "stdout",
     "output_type": "stream",
     "text": [
      "Creating time-based features...\n",
      "Time-based features 'hour_of_day', 'day_of_week', 'time_since_signup' created.\n"
     ]
    }
   ],
   "source": [
    "print(\"Creating time-based features...\")\n",
    "fraud_data['hour_of_day'] = fraud_data['purchase_time'].dt.hour\n",
    "fraud_data['day_of_week'] = fraud_data['purchase_time'].dt.dayofweek # Monday=0, Sunday=6\n",
    "fraud_data['time_since_signup'] = (fraud_data['purchase_time'] - fraud_data['signup_time']).dt.total_seconds() / (60*60*24) # in days\n",
    "print(\"Time-based features 'hour_of_day', 'day_of_week', 'time_since_signup' created.\")"
   ]
  },
  {
   "cell_type": "markdown",
   "id": "7104ada5",
   "metadata": {},
   "source": [
    "## Transaction Frequency and Velocity"
   ]
  },
  {
   "cell_type": "code",
   "execution_count": 9,
   "id": "6b93e23b",
   "metadata": {},
   "outputs": [
    {
     "name": "stdout",
     "output_type": "stream",
     "text": [
      "Creating transaction frequency features...\n",
      "Feature 'user_transaction_count' created.\n",
      "Feature 'device_transaction_count' created.\n",
      "Feature 'ip_transaction_count' created.\n",
      "\n",
      "--- Fraud Data Info After Feature Engineering ---\n",
      "<class 'pandas.core.frame.DataFrame'>\n",
      "RangeIndex: 151112 entries, 0 to 151111\n",
      "Data columns (total 19 columns):\n",
      " #   Column                    Non-Null Count   Dtype         \n",
      "---  ------                    --------------   -----         \n",
      " 0   user_id                   151112 non-null  int64         \n",
      " 1   signup_time               151112 non-null  datetime64[ns]\n",
      " 2   purchase_time             151112 non-null  datetime64[ns]\n",
      " 3   purchase_value            151112 non-null  int64         \n",
      " 4   device_id                 151112 non-null  object        \n",
      " 5   source                    151112 non-null  object        \n",
      " 6   browser                   151112 non-null  object        \n",
      " 7   sex                       151112 non-null  object        \n",
      " 8   age                       151112 non-null  int64         \n",
      " 9   ip_address                151112 non-null  float64       \n",
      " 10  class                     151112 non-null  int64         \n",
      " 11  ip_address_int            151112 non-null  int64         \n",
      " 12  country                   151112 non-null  object        \n",
      " 13  hour_of_day               151112 non-null  int32         \n",
      " 14  day_of_week               151112 non-null  int32         \n",
      " 15  time_since_signup         151112 non-null  float64       \n",
      " 16  user_transaction_count    151112 non-null  int64         \n",
      " 17  device_transaction_count  151112 non-null  int64         \n",
      " 18  ip_transaction_count      151112 non-null  int64         \n",
      "dtypes: datetime64[ns](2), float64(2), int32(2), int64(8), object(5)\n",
      "memory usage: 20.8+ MB\n",
      "\n",
      "First 5 rows of Fraud_Data.csv with new engineered features:\n",
      "   user_id         signup_time       purchase_time  purchase_value  \\\n",
      "0    22058 2015-02-24 22:55:49 2015-04-18 02:47:11              34   \n",
      "1   333320 2015-06-07 20:39:50 2015-06-08 01:38:54              16   \n",
      "2     1359 2015-01-01 18:52:44 2015-01-01 18:52:45              15   \n",
      "3   150084 2015-04-28 21:13:25 2015-05-04 13:54:50              44   \n",
      "4   221365 2015-07-21 07:09:52 2015-09-09 18:40:53              39   \n",
      "\n",
      "       device_id source browser sex  age    ip_address  class  ip_address_int  \\\n",
      "0  QVPSPJUOCKZAR    SEO  Chrome   M   39  7.327584e+08      0       732758369   \n",
      "1  EOGFQPIZPYXFZ    Ads  Chrome   F   53  3.503114e+08      0       350311388   \n",
      "2  YSSKYOSJHPPLJ    SEO   Opera   M   53  2.621474e+09      1      2621473820   \n",
      "3  ATGTXKYKUDUQN    SEO  Safari   M   41  3.840542e+09      0      3840542444   \n",
      "4  NAUITBZFJKHWW    Ads  Safari   M   45  4.155831e+08      0       415583117   \n",
      "\n",
      "         country  hour_of_day  day_of_week  time_since_signup  \\\n",
      "0          Japan            2            5          52.160671   \n",
      "1  United States            1            0           0.207685   \n",
      "2  United States           18            3           0.000012   \n",
      "3        Unknown           13            0           5.695428   \n",
      "4  United States           18            2          50.479873   \n",
      "\n",
      "   user_transaction_count  device_transaction_count  ip_transaction_count  \n",
      "0                       1                         1                     1  \n",
      "1                       1                         1                     1  \n",
      "2                       1                        12                    12  \n",
      "3                       1                         1                     1  \n",
      "4                       1                         1                     1  \n",
      "The 'Time' and 'Amount' features, along with V1-V28, are already quite rich.\n",
      "\n",
      "--- Feature Engineering Complete ---\n"
     ]
    }
   ],
   "source": [
    "# Number of transactions per user_id\n",
    "print(\"Creating transaction frequency features...\")\n",
    "user_transaction_counts = fraud_data.groupby('user_id')['purchase_time'].transform('count')\n",
    "fraud_data['user_transaction_count'] = user_transaction_counts\n",
    "print(\"Feature 'user_transaction_count' created.\")\n",
    "\n",
    "# Number of transactions per device_id\n",
    "device_transaction_counts = fraud_data.groupby('device_id')['purchase_time'].transform('count')\n",
    "fraud_data['device_transaction_count'] = device_transaction_counts\n",
    "print(\"Feature 'device_transaction_count' created.\")\n",
    "\n",
    "# Number of transactions per ip_address_int (after conversion)\n",
    "ip_transaction_counts = fraud_data.groupby('ip_address_int')['purchase_time'].transform('count')\n",
    "fraud_data['ip_transaction_count'] = ip_transaction_counts\n",
    "print(\"Feature 'ip_transaction_count' created.\")\n",
    "\n",
    "print(\"\\n--- Fraud Data Info After Feature Engineering ---\")\n",
    "fraud_data.info()\n",
    "\n",
    "print(\"\\nFirst 5 rows of Fraud_Data.csv with new engineered features:\")\n",
    "print(fraud_data.head())\n",
    "\n",
    "print(\"The 'Time' and 'Amount' features, along with V1-V28, are already quite rich.\")\n",
    "\n",
    "\n",
    "print(\"\\n--- Feature Engineering Complete ---\")\n"
   ]
  }
 ],
 "metadata": {
  "kernelspec": {
   "display_name": ".venv",
   "language": "python",
   "name": "python3"
  },
  "language_info": {
   "codemirror_mode": {
    "name": "ipython",
    "version": 3
   },
   "file_extension": ".py",
   "mimetype": "text/x-python",
   "name": "python",
   "nbconvert_exporter": "python",
   "pygments_lexer": "ipython3",
   "version": "3.12.3"
  }
 },
 "nbformat": 4,
 "nbformat_minor": 5
}
