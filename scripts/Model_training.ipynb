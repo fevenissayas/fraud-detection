{
 "cells": [
  {
   "cell_type": "markdown",
   "id": "ea2a134a",
   "metadata": {},
   "source": [
    "## Import dependencies"
   ]
  },
  {
   "cell_type": "code",
   "execution_count": 1,
   "id": "15b4ac73",
   "metadata": {},
   "outputs": [],
   "source": [
    "import pandas as pd\n",
    "import numpy as np\n",
    "from sklearn.model_selection import train_test_split\n",
    "from sklearn.preprocessing import StandardScaler, OneHotEncoder\n",
    "from imblearn.over_sampling import SMOTE\n",
    "from imblearn.under_sampling import RandomUnderSampler\n",
    "from collections import Counter\n",
    "from sklearn.linear_model import LogisticRegression\n",
    "from sklearn.ensemble import RandomForestClassifier\n",
    "from sklearn.metrics import (\n",
    "    precision_recall_curve, auc, f1_score, confusion_matrix,\n",
    "    classification_report, roc_auc_score, roc_curve\n",
    ")\n",
    "import matplotlib.pyplot as plt\n",
    "import seaborn as sns\n",
    "import warnings"
   ]
  },
  {
   "cell_type": "markdown",
   "id": "80b783d2",
   "metadata": {},
   "source": [
    "## Load Datasets"
   ]
  },
  {
   "cell_type": "code",
   "execution_count": 2,
   "id": "c08f90e0",
   "metadata": {},
   "outputs": [
    {
     "name": "stdout",
     "output_type": "stream",
     "text": [
      "Pre-processed datasets loaded successfully.\n"
     ]
    }
   ],
   "source": [
    "try:\n",
    "    fraud_data = pd.read_csv('../data/Fraud_Data_merged.csv')\n",
    "    creditcard_data = pd.read_csv('../data/creditcard_cleaned.csv')\n",
    "\n",
    "    if 'signup_time' in fraud_data.columns and not pd.api.types.is_datetime64_any_dtype(fraud_data['signup_time']):\n",
    "        fraud_data['signup_time'] = pd.to_datetime(fraud_data['signup_time'], errors='coerce')\n",
    "    if 'purchase_time' in fraud_data.columns and not pd.api.types.is_datetime64_any_dtype(fraud_data['purchase_time']):\n",
    "        fraud_data['purchase_time'] = pd.to_datetime(fraud_data['purchase_time'], errors='coerce')\n",
    "\n",
    "    initial_rows_fraud = fraud_data.shape[0]\n",
    "    fraud_data.dropna(subset=['signup_time', 'purchase_time'], inplace=True)\n",
    "    if fraud_data.shape[0] < initial_rows_fraud:\n",
    "        print(f\"Dropped {initial_rows_fraud - fraud_data.shape[0]} rows from Fraud_Data due to invalid signup_time or purchase_time after loading merged CSV.\")\n",
    "    \n",
    "    print(\"Pre-processed datasets loaded successfully.\")\n",
    "except FileNotFoundError as e:\n",
    "    print(f\"Error loading file: {e}. Please ensure the specified CSV files are in the same directory as this script.\")\n",
    "    exit()\n"
   ]
  },
  {
   "cell_type": "markdown",
   "id": "927afc03",
   "metadata": {},
   "source": [
    "## Define Features"
   ]
  },
  {
   "cell_type": "code",
   "execution_count": 3,
   "id": "8578e91c",
   "metadata": {},
   "outputs": [],
   "source": [
    "X_fraud = fraud_data.drop(columns=[\n",
    "    'user_id', 'signup_time', 'purchase_time', 'device_id', 'ip_address', 'class'\n",
    "])\n",
    "y_fraud = fraud_data['class']\n",
    "\n",
    "X_creditcard = creditcard_data.drop(columns=['Time', 'Class'])\n",
    "y_creditcard = creditcard_data['Class']"
   ]
  },
  {
   "cell_type": "markdown",
   "id": "d4dc03d1",
   "metadata": {},
   "source": [
    "## Train-Test Split"
   ]
  },
  {
   "cell_type": "code",
   "execution_count": 4,
   "id": "066383bf",
   "metadata": {},
   "outputs": [],
   "source": [
    "X_fraud_train, X_fraud_test, y_fraud_train, y_fraud_test = train_test_split(\n",
    "    X_fraud, y_fraud, test_size=0.3, random_state=42, stratify=y_fraud\n",
    ")\n",
    "X_creditcard_train, X_creditcard_test, y_creditcard_train, y_creditcard_test = train_test_split(\n",
    "    X_creditcard, y_creditcard, test_size=0.3, random_state=42, stratify=y_creditcard\n",
    ")"
   ]
  },
  {
   "cell_type": "markdown",
   "id": "1517619d",
   "metadata": {},
   "source": [
    "## Handle class imbalance"
   ]
  },
  {
   "cell_type": "code",
   "execution_count": 5,
   "id": "d38ba3f5",
   "metadata": {},
   "outputs": [
    {
     "name": "stdout",
     "output_type": "stream",
     "text": [
      "Fraud_Data training set resampled shape (SMOTE): Counter({0: 95872, 1: 95872})\n",
      "Creditcard_Data training set resampled shape (RandomUnderSampler): Counter({0: 331, 1: 331})\n"
     ]
    }
   ],
   "source": [
    "numerical_cols_fraud_train = X_fraud_train.select_dtypes(include=np.number).columns\n",
    "categorical_cols_fraud_train = X_fraud_train.select_dtypes(include='object').columns\n",
    "\n",
    "encoder_fraud_smote = OneHotEncoder(handle_unknown='ignore', sparse_output=False)\n",
    "X_fraud_train_cat_encoded = encoder_fraud_smote.fit_transform(X_fraud_train[categorical_cols_fraud_train])\n",
    "X_fraud_train_cat_encoded_df = pd.DataFrame(X_fraud_train_cat_encoded, columns=encoder_fraud_smote.get_feature_names_out(categorical_cols_fraud_train), index=X_fraud_train.index)\n",
    "X_fraud_train_combined = pd.concat([X_fraud_train[numerical_cols_fraud_train], X_fraud_train_cat_encoded_df], axis=1)\n",
    "\n",
    "smote = SMOTE(random_state=42)\n",
    "X_fraud_train_res, y_fraud_train_res = smote.fit_resample(X_fraud_train_combined, y_fraud_train)\n",
    "print(f\"Fraud_Data training set resampled shape (SMOTE): {Counter(y_fraud_train_res)}\")\n",
    "\n",
    "# Handle Class Imbalance (for creditcard.csv)\n",
    "rus = RandomUnderSampler(random_state=42)\n",
    "X_creditcard_train_res, y_creditcard_train_res = rus.fit_resample(X_creditcard_train, y_creditcard_train)\n",
    "print(f\"Creditcard_Data training set resampled shape (RandomUnderSampler): {Counter(y_creditcard_train_res)}\")"
   ]
  },
  {
   "cell_type": "markdown",
   "id": "1c7246fb",
   "metadata": {},
   "source": [
    "## Normalization and scaling"
   ]
  },
  {
   "cell_type": "code",
   "execution_count": 6,
   "id": "a3388cfd",
   "metadata": {},
   "outputs": [],
   "source": [
    "scaler_fraud = StandardScaler()\n",
    "numerical_cols_fraud_resampled = X_fraud_train_res.columns # All columns are numerical after encoding\n",
    "X_fraud_train_res[numerical_cols_fraud_resampled] = scaler_fraud.fit_transform(X_fraud_train_res[numerical_cols_fraud_resampled])\n",
    "\n",
    "X_fraud_test_cat_encoded = encoder_fraud_smote.transform(X_fraud_test[categorical_cols_fraud_train])\n",
    "X_fraud_test_cat_encoded_df = pd.DataFrame(X_fraud_test_cat_encoded, columns=encoder_fraud_smote.get_feature_names_out(categorical_cols_fraud_train), index=X_fraud_test.index)\n",
    "X_fraud_test_combined = pd.concat([X_fraud_test[numerical_cols_fraud_train], X_fraud_test_cat_encoded_df], axis=1)\n",
    "X_fraud_test = scaler_fraud.transform(X_fraud_test_combined)\n",
    "X_fraud_test = pd.DataFrame(X_fraud_test, columns=X_fraud_train_res.columns, index=X_fraud_test_combined.index)\n",
    "\n",
    "\n",
    "scaler_creditcard = StandardScaler()\n",
    "numerical_cols_creditcard = X_creditcard_train_res.select_dtypes(include=np.number).columns\n",
    "X_creditcard_train_res[numerical_cols_creditcard] = scaler_creditcard.fit_transform(X_creditcard_train_res[numerical_cols_creditcard])\n",
    "X_creditcard_test[numerical_cols_creditcard] = scaler_creditcard.transform(X_creditcard_test[numerical_cols_creditcard])"
   ]
  },
  {
   "cell_type": "markdown",
   "id": "e050e19a",
   "metadata": {},
   "source": [
    "## Model Training"
   ]
  },
  {
   "cell_type": "code",
   "execution_count": null,
   "id": "61092818",
   "metadata": {},
   "outputs": [
    {
     "name": "stdout",
     "output_type": "stream",
     "text": [
      "\n",
      "Logistic Regression (Fraud_Data) Evaluation:\n",
      "Confusion Matrix:\n",
      " [[23486 17603]\n",
      " [ 2095  2150]]\n",
      "Classification Report:\n",
      "               precision    recall  f1-score   support\n",
      "\n",
      "           0       0.92      0.57      0.70     41089\n",
      "           1       0.11      0.51      0.18      4245\n",
      "\n",
      "    accuracy                           0.57     45334\n",
      "   macro avg       0.51      0.54      0.44     45334\n",
      "weighted avg       0.84      0.57      0.66     45334\n",
      "\n",
      "AUC-PR: 0.1192\n",
      "F1-Score: 0.1792\n",
      "ROC-AUC: 0.5560\n",
      "\n",
      "Training Random Forest for Fraud_Data...\n",
      "\n",
      "Random Forest (Fraud_Data) Evaluation:\n",
      "Confusion Matrix:\n",
      " [[40710   379]\n",
      " [ 1972  2273]]\n",
      "Classification Report:\n",
      "               precision    recall  f1-score   support\n",
      "\n",
      "           0       0.95      0.99      0.97     41089\n",
      "           1       0.86      0.54      0.66      4245\n",
      "\n",
      "    accuracy                           0.95     45334\n",
      "   macro avg       0.91      0.76      0.82     45334\n",
      "weighted avg       0.94      0.95      0.94     45334\n",
      "\n",
      "AUC-PR: 0.5588\n",
      "F1-Score: 0.6591\n",
      "ROC-AUC: 0.7676\n",
      "\n",
      "--- Training and Evaluating Models for Creditcard.csv ---\n",
      "\n",
      "Training Logistic Regression for Creditcard_Data...\n",
      "\n",
      "Logistic Regression (Creditcard_Data) Evaluation:\n",
      "Confusion Matrix:\n",
      " [[82363  2613]\n",
      " [   17   125]]\n",
      "Classification Report:\n",
      "               precision    recall  f1-score   support\n",
      "\n",
      "           0       1.00      0.97      0.98     84976\n",
      "           1       0.05      0.88      0.09       142\n",
      "\n",
      "    accuracy                           0.97     85118\n",
      "   macro avg       0.52      0.92      0.54     85118\n",
      "weighted avg       1.00      0.97      0.98     85118\n",
      "\n",
      "AUC-PR: 0.3401\n",
      "F1-Score: 0.0868\n",
      "ROC-AUC: 0.9626\n",
      "\n",
      "Training Random Forest for Creditcard_Data...\n",
      "\n",
      "Random Forest (Creditcard_Data) Evaluation:\n",
      "Confusion Matrix:\n",
      " [[82431  2545]\n",
      " [   17   125]]\n",
      "Classification Report:\n",
      "               precision    recall  f1-score   support\n",
      "\n",
      "           0       1.00      0.97      0.98     84976\n",
      "           1       0.05      0.88      0.09       142\n",
      "\n",
      "    accuracy                           0.97     85118\n",
      "   macro avg       0.52      0.93      0.54     85118\n",
      "weighted avg       1.00      0.97      0.98     85118\n",
      "\n",
      "AUC-PR: 0.7395\n",
      "F1-Score: 0.0889\n",
      "ROC-AUC: 0.9742\n"
     ]
    }
   ],
   "source": [
    "# Logistic Regression\n",
    "lr_fraud = LogisticRegression(random_state=42, solver='liblinear', class_weight='balanced')\n",
    "lr_creditcard = LogisticRegression(random_state=42, solver='liblinear', class_weight='balanced')\n",
    "\n",
    "# Random Forest Classifier\n",
    "rf_fraud = RandomForestClassifier(random_state=42, n_estimators=100, class_weight='balanced')\n",
    "rf_creditcard = RandomForestClassifier(random_state=42, n_estimators=100, class_weight='balanced')\n",
    "\n",
    "lr_fraud.fit(X_fraud_train_res, y_fraud_train_res)\n",
    "y_pred_lr_fraud = lr_fraud.predict(X_fraud_test)\n",
    "y_prob_lr_fraud = lr_fraud.predict_proba(X_fraud_test)[:, 1]\n",
    "\n",
    "print(\"\\nLogistic Regression (Fraud_Data) Evaluation:\")\n",
    "print(\"Confusion Matrix:\\n\", confusion_matrix(y_fraud_test, y_pred_lr_fraud))\n",
    "print(\"Classification Report:\\n\", classification_report(y_fraud_test, y_pred_lr_fraud))\n",
    "precision_lr_fraud, recall_lr_fraud, _ = precision_recall_curve(y_fraud_test, y_prob_lr_fraud)\n",
    "auc_pr_lr_fraud = auc(recall_lr_fraud, precision_lr_fraud)\n",
    "print(f\"AUC-PR: {auc_pr_lr_fraud:.4f}\")\n",
    "print(f\"F1-Score: {f1_score(y_fraud_test, y_pred_lr_fraud):.4f}\")\n",
    "print(f\"ROC-AUC: {roc_auc_score(y_fraud_test, y_prob_lr_fraud):.4f}\")\n",
    "\n",
    "print(\"\\nTraining Random Forest for Fraud_Data...\")\n",
    "rf_fraud.fit(X_fraud_train_res, y_fraud_train_res)\n",
    "y_pred_rf_fraud = rf_fraud.predict(X_fraud_test)\n",
    "y_prob_rf_fraud = rf_fraud.predict_proba(X_fraud_test)[:, 1]\n",
    "\n",
    "print(\"\\nRandom Forest (Fraud_Data) Evaluation:\")\n",
    "print(\"Confusion Matrix:\\n\", confusion_matrix(y_fraud_test, y_pred_rf_fraud))\n",
    "print(\"Classification Report:\\n\", classification_report(y_fraud_test, y_pred_rf_fraud))\n",
    "precision_rf_fraud, recall_rf_fraud, _ = precision_recall_curve(y_fraud_test, y_prob_rf_fraud)\n",
    "auc_pr_rf_fraud = auc(recall_rf_fraud, precision_rf_fraud)\n",
    "print(f\"AUC-PR: {auc_pr_rf_fraud:.4f}\")\n",
    "print(f\"F1-Score: {f1_score(y_fraud_test, y_pred_rf_fraud):.4f}\")\n",
    "print(f\"ROC-AUC: {roc_auc_score(y_fraud_test, y_prob_rf_fraud):.4f}\")\n",
    "\n",
    "\n",
    "print(\"\\n--- Training and Evaluating Models for Creditcard.csv ---\")\n",
    "\n",
    "# Logistic Regression for Creditcard_Data\n",
    "print(\"\\nTraining Logistic Regression for Creditcard_Data...\")\n",
    "lr_creditcard.fit(X_creditcard_train_res, y_creditcard_train_res)\n",
    "y_pred_lr_creditcard = lr_creditcard.predict(X_creditcard_test)\n",
    "y_prob_lr_creditcard = lr_creditcard.predict_proba(X_creditcard_test)[:, 1]\n",
    "\n",
    "print(\"\\nLogistic Regression (Creditcard_Data) Evaluation:\")\n",
    "print(\"Confusion Matrix:\\n\", confusion_matrix(y_creditcard_test, y_pred_lr_creditcard))\n",
    "print(\"Classification Report:\\n\", classification_report(y_creditcard_test, y_pred_lr_creditcard))\n",
    "precision_lr_creditcard, recall_lr_creditcard, _ = precision_recall_curve(y_creditcard_test, y_prob_lr_creditcard)\n",
    "auc_pr_lr_creditcard = auc(recall_lr_creditcard, precision_lr_creditcard)\n",
    "print(f\"AUC-PR: {auc_pr_lr_creditcard:.4f}\")\n",
    "print(f\"F1-Score: {f1_score(y_creditcard_test, y_pred_lr_creditcard):.4f}\")\n",
    "print(f\"ROC-AUC: {roc_auc_score(y_creditcard_test, y_prob_lr_creditcard):.4f}\")\n",
    "\n",
    "\n",
    "# Random Forest for Creditcard_Data\n",
    "print(\"\\nTraining Random Forest for Creditcard_Data...\")\n",
    "rf_creditcard.fit(X_creditcard_train_res, y_creditcard_train_res)\n",
    "y_pred_rf_creditcard = rf_creditcard.predict(X_creditcard_test)\n",
    "y_prob_rf_creditcard = rf_creditcard.predict_proba(X_creditcard_test)[:, 1]\n",
    "\n",
    "print(\"\\nRandom Forest (Creditcard_Data) Evaluation:\")\n",
    "print(\"Confusion Matrix:\\n\", confusion_matrix(y_creditcard_test, y_pred_rf_creditcard))\n",
    "print(\"Classification Report:\\n\", classification_report(y_creditcard_test, y_pred_rf_creditcard))\n",
    "precision_rf_creditcard, recall_rf_creditcard, _ = precision_recall_curve(y_creditcard_test, y_prob_rf_creditcard)\n",
    "auc_pr_rf_creditcard = auc(recall_rf_creditcard, precision_rf_creditcard)\n",
    "print(f\"AUC-PR: {auc_pr_rf_creditcard:.4f}\")\n",
    "print(f\"F1-Score: {f1_score(y_creditcard_test, y_pred_rf_creditcard):.4f}\")\n",
    "print(f\"ROC-AUC: {roc_auc_score(y_creditcard_test, y_prob_rf_creditcard):.4f}\")\n"
   ]
  },
  {
   "cell_type": "markdown",
   "id": "a309f5e3",
   "metadata": {},
   "source": [
    "## Model Selection"
   ]
  },
  {
   "cell_type": "code",
   "execution_count": 9,
   "id": "fc02db0a",
   "metadata": {},
   "outputs": [
    {
     "name": "stdout",
     "output_type": "stream",
     "text": [
      "\n",
      "For Fraud_Data.csv (E-commerce):\n",
      "Logistic Regression AUC-PR: 0.1192, F1-Score: 0.1792\n",
      "Random Forest AUC-PR: 0.5588, F1-Score: 0.6591\n",
      "\n",
      "Random Forest generally outperforms Logistic Regression on Fraud_Data.csv, especially in terms of AUC-PR and F1-Score, indicating better handling of the imbalanced nature and capturing more complex patterns. This is expected as ensemble methods are typically more powerful.\n",
      "\n",
      "For Creditcard.csv (Bank Transactions):\n",
      "Logistic Regression AUC-PR: 0.3401, F1-Score: 0.0868\n",
      "Random Forest AUC-PR: 0.7395, F1-Score: 0.0889\n"
     ]
    }
   ],
   "source": [
    "print(\"\\nFor Fraud_Data.csv (E-commerce):\")\n",
    "print(f\"Logistic Regression AUC-PR: {auc_pr_lr_fraud:.4f}, F1-Score: {f1_score(y_fraud_test, y_pred_lr_fraud):.4f}\")\n",
    "print(f\"Random Forest AUC-PR: {auc_pr_rf_fraud:.4f}, F1-Score: {f1_score(y_fraud_test, y_pred_rf_fraud):.4f}\")\n",
    "print(\"\\nRandom Forest generally outperforms Logistic Regression on Fraud_Data.csv, especially in terms of AUC-PR and F1-Score, indicating better handling of the imbalanced nature and capturing more complex patterns. This is expected as ensemble methods are typically more powerful.\")\n",
    "\n",
    "print(\"\\nFor Creditcard.csv (Bank Transactions):\")\n",
    "print(f\"Logistic Regression AUC-PR: {auc_pr_lr_creditcard:.4f}, F1-Score: {f1_score(y_creditcard_test, y_pred_lr_creditcard):.4f}\")\n",
    "print(f\"Random Forest AUC-PR: {auc_pr_rf_creditcard:.4f}, F1-Score: {f1_score(y_creditcard_test, y_pred_rf_creditcard):.4f}\")"
   ]
  }
 ],
 "metadata": {
  "kernelspec": {
   "display_name": ".venv",
   "language": "python",
   "name": "python3"
  },
  "language_info": {
   "codemirror_mode": {
    "name": "ipython",
    "version": 3
   },
   "file_extension": ".py",
   "mimetype": "text/x-python",
   "name": "python",
   "nbconvert_exporter": "python",
   "pygments_lexer": "ipython3",
   "version": "3.12.3"
  }
 },
 "nbformat": 4,
 "nbformat_minor": 5
}
